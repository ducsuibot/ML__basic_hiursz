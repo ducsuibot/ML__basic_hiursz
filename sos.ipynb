{
  "nbformat": 4,
  "nbformat_minor": 0,
  "metadata": {
    "colab": {
      "provenance": [],
      "authorship_tag": "ABX9TyPLEopYp6ZRSW358brbirgB",
      "include_colab_link": true
    },
    "kernelspec": {
      "name": "python3",
      "display_name": "Python 3"
    },
    "language_info": {
      "name": "python"
    }
  },
  "cells": [
    {
      "cell_type": "markdown",
      "metadata": {
        "id": "view-in-github",
        "colab_type": "text"
      },
      "source": [
        "<a href=\"https://colab.research.google.com/github/ducsuibot/hiura-mihate/blob/main/sos.ipynb\" target=\"_parent\"><img src=\"https://colab.research.google.com/assets/colab-badge.svg\" alt=\"Open In Colab\"/></a>"
      ]
    },
    {
      "cell_type": "code",
      "execution_count": 16,
      "metadata": {
        "id": "wTR62G-GTDSD"
      },
      "outputs": [],
      "source": [
        "import numpy as np\n",
        "import matplotlib.pyplot as plt"
      ]
    },
    {
      "cell_type": "markdown",
      "source": [
        "1. dữ liệu"
      ],
      "metadata": {
        "id": "HjJAAi1NThDn"
      }
    },
    {
      "cell_type": "code",
      "source": [
        "X_train = np.array([[2104, 5, 1, 45], [1416, 3, 2, 40], [852, 2, 1, 35]])\n",
        "y_train = np.array([460, 232, 178])\n",
        "print(X_train)\n",
        "print(y_train)"
      ],
      "metadata": {
        "colab": {
          "base_uri": "https://localhost:8080/"
        },
        "id": "Oo7KPOuvTNJK",
        "outputId": "e9559199-cfe2-4e0c-8907-39127f44f104"
      },
      "execution_count": 17,
      "outputs": [
        {
          "output_type": "stream",
          "name": "stdout",
          "text": [
            "[[2104    5    1   45]\n",
            " [1416    3    2   40]\n",
            " [ 852    2    1   35]]\n",
            "[460 232 178]\n"
          ]
        }
      ]
    },
    {
      "cell_type": "markdown",
      "source": [
        "2. Hàm thay đoán 1 phát"
      ],
      "metadata": {
        "id": "slw3t4IqTlb0"
      }
    },
    {
      "cell_type": "code",
      "source": [
        "def predict(x,w,b):\n",
        "  y_hat=np.dot(x,w)+b\n",
        "  return y_hat"
      ],
      "metadata": {
        "id": "snv0qd8bTfi1"
      },
      "execution_count": 18,
      "outputs": []
    },
    {
      "cell_type": "markdown",
      "source": [
        "3. Test thử hàng 1"
      ],
      "metadata": {
        "id": "EkLVmGNSUHOI"
      }
    },
    {
      "cell_type": "code",
      "source": [
        "w = np.array([ 0.39133535, 18.75376741, -53.36032453, -26.42131618])\n",
        "b = 785.1811367994083\n",
        "print(predict(X_train[0,:],w,b))"
      ],
      "metadata": {
        "colab": {
          "base_uri": "https://localhost:8080/"
        },
        "id": "wtIf1stqUGUz",
        "outputId": "4c701f54-4986-41ba-ded6-f29855f0e1d0"
      },
      "execution_count": 19,
      "outputs": [
        {
          "output_type": "stream",
          "name": "stdout",
          "text": [
            "459.9999976194083\n"
          ]
        }
      ]
    },
    {
      "cell_type": "markdown",
      "source": [
        "4. Tính hàm chi phí Cost"
      ],
      "metadata": {
        "id": "w93hpI8MUtTQ"
      }
    },
    {
      "cell_type": "code",
      "source": [
        "def cost(x,y,w,b):\n",
        "  m,n = x.shape\n",
        "  error = 0.0\n",
        "  for i in range(m):\n",
        "    y_hat = np.dot(x[i],w) + b\n",
        "    error += (y_hat-y[i])**2\n",
        "  cost = error/(2*m)\n",
        "  return cost\n",
        "\n"
      ],
      "metadata": {
        "id": "6dH67BdmUr0V"
      },
      "execution_count": 31,
      "outputs": []
    },
    {
      "cell_type": "markdown",
      "source": [
        "5. Tính thử hàm chi phí với dữ liệu và đường cong cho sẵn"
      ],
      "metadata": {
        "id": "bhlLniGuXtZA"
      }
    },
    {
      "cell_type": "code",
      "source": [
        "print(cost(X_train,y_train,w,b))"
      ],
      "metadata": {
        "colab": {
          "base_uri": "https://localhost:8080/"
        },
        "id": "dnV1Ki-sV3l1",
        "outputId": "a27e7c92-50fe-45a8-b7cd-9354cbf82ebd"
      },
      "execution_count": 32,
      "outputs": [
        {
          "output_type": "stream",
          "name": "stdout",
          "text": [
            "1.5578904428966628e-12\n"
          ]
        }
      ]
    },
    {
      "cell_type": "markdown",
      "source": [
        "6. Tính Gradient"
      ],
      "metadata": {
        "id": "noaiVhzMX00q"
      }
    },
    {
      "cell_type": "code",
      "source": [
        "def gradient(X_train,y_train,w,b):\n",
        "  m,n = X_train.shape\n",
        "  dw = 0.0\n",
        "  db = 0.0\n",
        "  error = 0.0\n",
        "  for i in range(m):\n",
        "    y_hat = np.dot(w,X_train[i])+b\n",
        "    error = y_hat - y_train[i]\n",
        "    dw += error*X_train[i]\n",
        "    db += error\n",
        "  dw /= m\n",
        "  db /= m\n",
        "  return dw,db"
      ],
      "metadata": {
        "id": "LzHqfhmfX54V"
      },
      "execution_count": 33,
      "outputs": []
    },
    {
      "cell_type": "markdown",
      "source": [
        "7. Tính thử gradient dw db vs các dữ liệu và đường cong cho trước"
      ],
      "metadata": {
        "id": "p-RdKJOgZWC_"
      }
    },
    {
      "cell_type": "code",
      "source": [
        "print(gradient(X_train,y_train,w,b))"
      ],
      "metadata": {
        "colab": {
          "base_uri": "https://localhost:8080/"
        },
        "id": "-gzqsyI3ZkfI",
        "outputId": "14904352-2a72-4344-e291-0d57f8b90083"
      },
      "execution_count": 34,
      "outputs": [
        {
          "output_type": "stream",
          "name": "stdout",
          "text": [
            "(array([-2.72623577e-03, -6.27197263e-06, -2.21745578e-06, -6.92403391e-05]), np.float64(-1.6739251501955248e-06))\n"
          ]
        }
      ]
    },
    {
      "cell_type": "markdown",
      "source": [
        "8. Chỉnh lại trọng số bằng cách dùng gradient => Chi phí auto giảm"
      ],
      "metadata": {
        "id": "99XErl_VZztq"
      }
    },
    {
      "cell_type": "code",
      "source": [
        "def gradient_descent(X_train,y_train,w,b,learning_rate,epochs):\n",
        "  j_history=[]\n",
        "  for i in range(epochs):\n",
        "    dw,db = gradient(X_train,y_train,w,b)\n",
        "    w = w - learning_rate*dw\n",
        "    b = b - learning_rate*db\n",
        "    j_history.append(cost(X_train,y_train,w,b))\n",
        "    if i % (epochs/10) == 0:\n",
        "      print(f\"epoch {i} : cost = {j_history[i]}\")\n",
        "  return w,b,j_history"
      ],
      "metadata": {
        "id": "KvkkcL5PaCWh"
      },
      "execution_count": 35,
      "outputs": []
    },
    {
      "cell_type": "markdown",
      "source": [
        "9. chill time:"
      ],
      "metadata": {
        "id": "93N5VlhvcEyI"
      }
    },
    {
      "cell_type": "code",
      "source": [
        "m,n = X_train.shape\n",
        "w = np.zeros(n)\n",
        "b = 0.0\n",
        "epochs = 1000000\n",
        "learning_rate = 5.0e-7\n",
        "w_final,b_final,j_final = gradient_descent(X_train,y_train,w,b,learning_rate,epochs)\n",
        "print(w_final,b_final)\n"
      ],
      "metadata": {
        "colab": {
          "base_uri": "https://localhost:8080/"
        },
        "id": "3wPLaXCKcMUa",
        "outputId": "c9664f60-2f8f-4422-da09-01dfca3b5e2a"
      },
      "execution_count": 74,
      "outputs": [
        {
          "output_type": "stream",
          "name": "stdout",
          "text": [
            "epoch 0 : cost = 2529.4629522316304\n",
            "epoch 100000 : cost = 563.2536222813027\n",
            "epoch 200000 : cost = 550.0490577906063\n",
            "epoch 300000 : cost = 537.1698026884834\n",
            "epoch 400000 : cost = 524.5921141448363\n",
            "epoch 500000 : cost = 512.3089288447975\n",
            "epoch 600000 : cost = 500.31335107267813\n",
            "epoch 700000 : cost = 488.598646574449\n",
            "epoch 800000 : cost = 477.1582387768467\n",
            "epoch 900000 : cost = 465.98570509534034\n",
            "[ 0.23379655  2.63288293 -7.41311843 -1.24930407] 0.08736063337565142\n"
          ]
        }
      ]
    },
    {
      "cell_type": "markdown",
      "source": [
        "9. Thử nghiệm kết quả"
      ],
      "metadata": {
        "id": "4xyyquc_etGq"
      }
    },
    {
      "cell_type": "code",
      "source": [
        "for i in range(m):\n",
        "  y_hat = np.dot(w_final,X_train[i])+b\n",
        "  print(y_hat,y_train[i])"
      ],
      "metadata": {
        "colab": {
          "base_uri": "https://localhost:8080/"
        },
        "id": "p1udf2sieq0O",
        "outputId": "4b5735d5-ecf8-48cf-fb6f-fcdcfa286109"
      },
      "execution_count": 75,
      "outputs": [
        {
          "output_type": "stream",
          "name": "stdout",
          "text": [
            "441.44055497992974 460\n",
            "274.15616438732513 232\n",
            "153.3216658369238 178\n"
          ]
        }
      ]
    },
    {
      "cell_type": "markdown",
      "source": [
        "10. Vẽ"
      ],
      "metadata": {
        "id": "Dkxy1IRgfn2D"
      }
    },
    {
      "cell_type": "code",
      "source": [
        "fig, (ax1, ax2) = plt.subplots(1, 2, constrained_layout=True, figsize=(12, 4))\n",
        "ax1.plot(j_final)\n",
        "ax2.plot(100 + np.arange(len(j_final[100:])), j_final[100:])\n",
        "ax1.set_title(\"Cost vs. iteration\");  ax2.set_title(\"Cost vs. iteration (tail)\")\n",
        "ax1.set_ylabel('Cost')             ;  ax2.set_ylabel('Cost')\n",
        "ax1.set_xlabel('iteration step')   ;  ax2.set_xlabel('iteration step')\n",
        "plt.show()"
      ],
      "metadata": {
        "colab": {
          "base_uri": "https://localhost:8080/",
          "height": 410
        },
        "id": "W9BHWCxLfnAE",
        "outputId": "7927b59c-e135-4e15-d34c-c5c9476e59e4"
      },
      "execution_count": 76,
      "outputs": [
        {
          "output_type": "display_data",
          "data": {
            "text/plain": [
              "<Figure size 1200x400 with 2 Axes>"
            ],
            "image/png": "[encoded data removed]"
          },
          "metadata": {}
        }
      ]
    }
  ]
}