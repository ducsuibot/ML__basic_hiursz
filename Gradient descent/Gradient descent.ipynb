{
  "nbformat": 4,
  "nbformat_minor": 0,
  "metadata": {
    "colab": {
      "provenance": [],
      "authorship_tag": "ABX9TyP3s24Z4IhIfb6DPQLM9DTs",
      "include_colab_link": true
    },
    "kernelspec": {
      "name": "python3",
      "display_name": "Python 3"
    },
    "language_info": {
      "name": "python"
    }
  },
  "cells": [
    {
      "cell_type": "markdown",
      "metadata": {
        "id": "view-in-github",
        "colab_type": "text"
      },
      "source": [
        "<a href=\"https://colab.research.google.com/github/ducsuibot/hiura-mihate/blob/main/Gradient%20descent.ipynb\" target=\"_parent\"><img src=\"https://colab.research.google.com/assets/colab-badge.svg\" alt=\"Open In Colab\"/></a>"
      ]
    },
    {
      "cell_type": "code",
      "execution_count": 198,
      "metadata": {
        "id": "MTz98glGeexk"
      },
      "outputs": [],
      "source": [
        "import math, copy\n",
        "import numpy as np\n",
        "import matplotlib.pyplot as plt"
      ]
    },
    {
      "cell_type": "code",
      "source": [
        "# Load our data set\n",
        "#x_train = np.array([[2.1,3], [1.6,3]])   #features\n",
        "#y_train = np.array([400.0, 330.0])   #target value"
      ],
      "metadata": {
        "id": "htu92gU_m63E"
      },
      "execution_count": 199,
      "outputs": []
    },
    {
      "cell_type": "code",
      "source": [
        "# Load the data from 'data.txt'\n",
        "data = np.loadtxt('data.txt', delimiter=',')"
      ],
      "metadata": {
        "id": "qWirezqAwvTe"
      },
      "execution_count": 200,
      "outputs": []
    },
    {
      "cell_type": "code",
      "source": [
        "# Chia cột 0 (diện tích) và cột 2 (giá) cho 1000\n",
        "data[:, 0] = data[:, 0] / 1000  # diện tích nhỏ hơn\n",
        "data[:, 2] = data[:, 2] / 1000  # giá nhà nhỏ hơn"
      ],
      "metadata": {
        "id": "aTgAbTkBvlRI"
      },
      "execution_count": 201,
      "outputs": []
    },
    {
      "cell_type": "code",
      "source": [
        "# Extract features (diện tích, số phòng ngủ) and target (giá nhà)\n",
        "x_train = data[:, :2]   # 2 cột đầu\n",
        "y_train = data[:, 2]    # cột cuối"
      ],
      "metadata": {
        "id": "-EFsyEE8m8BD"
      },
      "execution_count": 202,
      "outputs": []
    },
    {
      "cell_type": "code",
      "source": [
        "m = x_train.shape[0]\n",
        "print(m)"
      ],
      "metadata": {
        "colab": {
          "base_uri": "https://localhost:8080/"
        },
        "id": "B9Bc_mTdp4I7",
        "outputId": "fca3d75f-11b1-4604-e4cf-6544713d5440"
      },
      "execution_count": 203,
      "outputs": [
        {
          "output_type": "stream",
          "name": "stdout",
          "text": [
            "47\n"
          ]
        }
      ]
    },
    {
      "cell_type": "code",
      "source": [
        "# Hàm tính chi phí (cost function)\n",
        "def compute_cost(x, y, w, b):\n",
        "    m = x.shape[0]\n",
        "    cost = 0.0\n",
        "    for i in range(m):\n",
        "        f_wb = np.dot(w, x[i]) + b\n",
        "        cost += (f_wb - y[i]) ** 2\n",
        "    return cost / (2 * m)"
      ],
      "metadata": {
        "id": "w3TcAStder4K"
      },
      "execution_count": 204,
      "outputs": []
    },
    {
      "cell_type": "code",
      "source": [
        "# Hàm tính gradient\n",
        "def compute_gradient(x, y, w, b):\n",
        "    m, n = x.shape\n",
        "    dj_dw = np.zeros(n)\n",
        "   # m=x.shape[0]\n",
        "    #dj_dw = 0.0\n",
        "    dj_db = 0.0\n",
        "\n",
        "    for i in range(m):\n",
        "        f_wb = np.dot(w, x[i]) + b\n",
        "        err = f_wb - y[i]\n",
        "        dj_dw += err * x[i]\n",
        "        dj_db += err\n",
        "\n",
        "    dj_dw /= m\n",
        "    dj_db /= m\n",
        "\n",
        "    return dj_dw, dj_db\n"
      ],
      "metadata": {
        "id": "LPAJfNq7gltG"
      },
      "execution_count": 205,
      "outputs": []
    },
    {
      "cell_type": "code",
      "source": [
        "# Hàm gradient descent\n",
        "def gradient_descent(x, y, w_in, b_in, alpha, num_iters, cost_function, gradient_function):\n",
        "    w = copy.deepcopy(w_in)\n",
        "    b = copy.deepcopy(b_in)\n",
        "\n",
        "    J_history = []\n",
        "\n",
        "\n",
        "    for i in range(num_iters):\n",
        "        dj_dw, dj_db = gradient_function(x, y, w , b)\n",
        "\n",
        "        b = b - alpha * dj_db\n",
        "        w = w - alpha * dj_dw\n",
        "\n",
        "        if 1:\n",
        "            J_history.append(cost_function(x, y, w , b))\n",
        "\n",
        "\n",
        "        if i % math.ceil(num_iters / 10) == 0:\n",
        "            print(f\"Iteration {i:4}: Cost {J_history[-1]:0.2e} \",\n",
        "                  f\"dj_dw: {dj_dw}, dj_db: {dj_db:.3e} \",\n",
        "                  f\"w: {w}, b: {b:.5e}\")\n",
        "\n",
        "    return w, b, J_history\n"
      ],
      "metadata": {
        "id": "4VWltpOEgoS6"
      },
      "execution_count": 206,
      "outputs": []
    },
    {
      "cell_type": "code",
      "source": [
        "# Khởi tạo tham số\n",
        "w_init = np.zeros(x_train.shape[1])  # Vector 2 phần tử [0.0, 0.0]\n",
        "b_init = 0.0"
      ],
      "metadata": {
        "id": "fEHCm_1QnXka"
      },
      "execution_count": 207,
      "outputs": []
    },
    {
      "cell_type": "code",
      "source": [
        "# Cấu hình gradient descent\n",
        "iterations = 10000\n",
        "alpha = 0.05"
      ],
      "metadata": {
        "id": "40egQKT4nZ4V"
      },
      "execution_count": 208,
      "outputs": []
    },
    {
      "cell_type": "code",
      "source": [
        "# Chạy gradient descent\n",
        "w_final, b_final, J_hist= gradient_descent(\n",
        "    x_train, y_train,\n",
        "    w_init, b_init,\n",
        "    alpha, iterations,\n",
        "    compute_cost, compute_gradient\n",
        ")"
      ],
      "metadata": {
        "colab": {
          "base_uri": "https://localhost:8080/"
        },
        "id": "dbzdqUDwgqBM",
        "outputId": "09781787-ed34-4928-c24e-5b272d22d49b"
      },
      "execution_count": 209,
      "outputs": [
        {
          "output_type": "stream",
          "name": "stdout",
          "text": [
            "Iteration    0: Cost 6.62e+03  dj_dw: [ -764.20912819 -1120.36770213], dj_db: -3.404e+02  w: [38.21045641 56.01838511], b: 1.70206e+01\n",
            "Iteration 1000: Cost 2.04e+03  dj_dw: [-0.001412    0.10842952], dj_db: -3.585e-01  w: [139.18200665  -6.53017702], b: 8.22983e+01\n",
            "Iteration 2000: Cost 2.04e+03  dj_dw: [-0.00012112  0.00933326], dj_db: -3.086e-02  w: [139.2082077  -8.5479709], b: 8.89696e+01\n",
            "Iteration 3000: Cost 2.04e+03  dj_dw: [-1.04259453e-05  8.03398653e-04], dj_db: -2.656e-03  w: [139.21046172  -8.72165994], b: 8.95438e+01\n",
            "Iteration 4000: Cost 2.04e+03  dj_dw: [-8.97455655e-07  6.91558148e-05], dj_db: -2.286e-04  w: [139.21065574  -8.73661093], b: 8.95933e+01\n",
            "Iteration 5000: Cost 2.04e+03  dj_dw: [-7.72522055e-08  5.95286867e-06], dj_db: -1.968e-05  w: [139.21067244  -8.7378979 ], b: 8.95975e+01\n",
            "Iteration 6000: Cost 2.04e+03  dj_dw: [-6.64977886e-09  5.12417426e-07], dj_db: -1.694e-06  w: [139.21067388  -8.73800868], b: 8.95979e+01\n",
            "Iteration 7000: Cost 2.04e+03  dj_dw: [-5.72365795e-10  4.41085011e-08], dj_db: -1.458e-07  w: [139.21067401  -8.73801821], b: 8.95979e+01\n",
            "Iteration 8000: Cost 2.04e+03  dj_dw: [-4.93309412e-11  3.79677997e-09], dj_db: -1.255e-08  w: [139.21067402  -8.73801904], b: 8.95979e+01\n",
            "Iteration 9000: Cost 2.04e+03  dj_dw: [-4.19265568e-12  3.26894408e-10], dj_db: -1.081e-09  w: [139.21067402  -8.73801911], b: 8.95979e+01\n"
          ]
        }
      ]
    },
    {
      "cell_type": "code",
      "source": [
        "# In kết quả cuối cùng\n",
        "print(f\"\\n(w,b) found by gradient descent: ({w_final}, {b_final:.4f})\")"
      ],
      "metadata": {
        "colab": {
          "base_uri": "https://localhost:8080/"
        },
        "id": "ruYNUSuYniir",
        "outputId": "9f0061f1-e4a9-4470-d245-70d9c09ee32d"
      },
      "execution_count": 210,
      "outputs": [
        {
          "output_type": "stream",
          "name": "stdout",
          "text": [
            "\n",
            "(w,b) found by gradient descent: ([139.21067402  -8.73801911], 89.5979)\n"
          ]
        }
      ]
    },
    {
      "cell_type": "code",
      "source": [
        "# Dự đoán thử cho dòng đầu tiên\n",
        "example = x_train[0]\n",
        "prediction = np.dot(w_final, example) + b_final\n",
        "print(f\"Dự đoán giá nhà cho x = {example} : {prediction:.2f} USD (thực tế: {y_train[0]})\")"
      ],
      "metadata": {
        "colab": {
          "base_uri": "https://localhost:8080/"
        },
        "id": "rm8l6qr5npVf",
        "outputId": "c89e0002-1183-42f8-dd38-d6b6ad77b507"
      },
      "execution_count": 211,
      "outputs": [
        {
          "output_type": "stream",
          "name": "stdout",
          "text": [
            "Dự đoán giá nhà cho x = [2.104 3.   ] : 356.28 USD (thực tế: 399.9)\n"
          ]
        }
      ]
    },
    {
      "cell_type": "code",
      "source": [
        "# Vẽ đồ thị cost theo số lần lặp\n",
        "fig, ax2 = plt.subplots(constrained_layout=True, figsize=(12, 4))\n",
        "ax2.plot(np.arange(len(J_hist)), J_hist)\n",
        "ax2.set_title(\"Cost vs. iteration (end)\")\n",
        "ax2.set_ylabel('Cost')\n",
        "ax2.set_xlabel('Iteration')\n",
        "plt.show()"
      ],
      "metadata": {
        "colab": {
          "base_uri": "https://localhost:8080/",
          "height": 301
        },
        "id": "g1ft6DyggsWO",
        "outputId": "fe4f4848-2f72-4773-c096-1fc02bcf1312"
      },
      "execution_count": 212,
      "outputs": [
        {
          "output_type": "display_data",
          "data": {
            "text/plain": [
              "<Figure size 1200x400 with 1 Axes>"
            ],
            "image/png": "[encoded data removed]"
          },
          "metadata": {}
        }
      ]
    }
  ]
}